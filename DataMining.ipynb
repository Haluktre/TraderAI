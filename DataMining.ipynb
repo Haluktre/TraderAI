{
 "cells": [
  {
   "cell_type": "code",
   "execution_count": 185,
   "id": "1717f0e1",
   "metadata": {},
   "outputs": [],
   "source": [
    "import yfinance as yf"
   ]
  },
  {
   "cell_type": "code",
   "execution_count": 186,
   "id": "63c80d64",
   "metadata": {},
   "outputs": [
    {
     "name": "stderr",
     "output_type": "stream",
     "text": [
      "[*********************100%%**********************]  1 of 1 completed\n"
     ]
    }
   ],
   "source": [
    "ticker = \"BTC-USD\"\n",
    "df=yf.download(ticker,period=\"1d\",actions=True,interval=\"1m\")\n",
    "df.insert(0, 'Indeks', range(1, 1 + len(df)))"
   ]
  },
  {
   "cell_type": "code",
   "execution_count": 187,
   "id": "2673e3d0",
   "metadata": {},
   "outputs": [],
   "source": [
    "df.to_csv(\"data.csv\")"
   ]
  }
 ],
 "metadata": {
  "kernelspec": {
   "display_name": "neuralNetwork",
   "language": "python",
   "name": "python3"
  },
  "language_info": {
   "codemirror_mode": {
    "name": "ipython",
    "version": 3
   },
   "file_extension": ".py",
   "mimetype": "text/x-python",
   "name": "python",
   "nbconvert_exporter": "python",
   "pygments_lexer": "ipython3",
   "version": "3.11.9"
  }
 },
 "nbformat": 4,
 "nbformat_minor": 5
}
